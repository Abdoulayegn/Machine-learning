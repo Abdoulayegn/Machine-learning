{
 "cells": [
  {
   "cell_type": "code",
   "execution_count": 1,
   "metadata": {},
   "outputs": [],
   "source": [
    "import pandas as pd\n",
    "import numpy as np"
   ]
  },
  {
   "cell_type": "code",
   "execution_count": 2,
   "metadata": {},
   "outputs": [],
   "source": [
    "products= pd.read_csv('amazon_baby_subset.csv')"
   ]
  },
  {
   "cell_type": "code",
   "execution_count": 3,
   "metadata": {},
   "outputs": [
    {
     "data": {
      "text/plain": [
       "0    Stop Pacifier Sucking without tears with Thumb...\n",
       "1      Nature's Lullabies Second Year Sticker Calendar\n",
       "2      Nature's Lullabies Second Year Sticker Calendar\n",
       "3                          Lamaze Peekaboo, I Love You\n",
       "4    SoftPlay Peek-A-Boo Where's Elmo A Children's ...\n",
       "5                            Our Baby Girl Memory Book\n",
       "6    Hunnt&reg; Falling Flowers and Birds Kids Nurs...\n",
       "7    Blessed By Pope Benedict XVI Divine Mercy Full...\n",
       "8    Cloth Diaper Pins Stainless Steel Traditional ...\n",
       "9    Cloth Diaper Pins Stainless Steel Traditional ...\n",
       "Name: name, dtype: object"
      ]
     },
     "execution_count": 3,
     "metadata": {},
     "output_type": "execute_result"
    }
   ],
   "source": [
    "products['name'][:10]"
   ]
  },
  {
   "cell_type": "code",
   "execution_count": 4,
   "metadata": {},
   "outputs": [
    {
     "name": "stdout",
     "output_type": "stream",
     "text": [
      "26579\n",
      "26493\n",
      "53072\n"
     ]
    }
   ],
   "source": [
    "print ((products['sentiment'] == 1).sum())\n",
    "print ((products['sentiment'] == -1).sum())\n",
    "print ((products['sentiment']).count())"
   ]
  },
  {
   "cell_type": "markdown",
   "metadata": {},
   "source": [
    "**Apply text cleaning on the review data**"
   ]
  },
  {
   "cell_type": "code",
   "execution_count": 5,
   "metadata": {},
   "outputs": [
    {
     "data": {
      "text/plain": [
       "['baby', 'one', 'great']"
      ]
     },
     "execution_count": 5,
     "metadata": {},
     "output_type": "execute_result"
    }
   ],
   "source": [
    "import json\n",
    "with open('important_words.json')as important_word_file:\n",
    "    important_words = json.load(important_word_file)\n",
    "important_words[:3]"
   ]
  },
  {
   "cell_type": "code",
   "execution_count": 6,
   "metadata": {},
   "outputs": [],
   "source": [
    "products = products.fillna({'review':''})\n",
    "\n",
    "def remove_punctuation(text):\n",
    "    import string\n",
    "    return text.translate(None, string.punctuation)\n"
   ]
  },
  {
   "cell_type": "code",
   "execution_count": 7,
   "metadata": {},
   "outputs": [
    {
     "data": {
      "text/html": [
       "<div>\n",
       "<style scoped>\n",
       "    .dataframe tbody tr th:only-of-type {\n",
       "        vertical-align: middle;\n",
       "    }\n",
       "\n",
       "    .dataframe tbody tr th {\n",
       "        vertical-align: top;\n",
       "    }\n",
       "\n",
       "    .dataframe thead th {\n",
       "        text-align: right;\n",
       "    }\n",
       "</style>\n",
       "<table border=\"1\" class=\"dataframe\">\n",
       "  <thead>\n",
       "    <tr style=\"text-align: right;\">\n",
       "      <th></th>\n",
       "      <th>Retailer</th>\n",
       "      <th>Salerank</th>\n",
       "      <th>X2013USSales</th>\n",
       "      <th>X2013WorldSales</th>\n",
       "      <th>ProfitMargin</th>\n",
       "      <th>NumStores</th>\n",
       "      <th>Industry</th>\n",
       "      <th>Reward</th>\n",
       "      <th>ProgramName</th>\n",
       "      <th>RewardType</th>\n",
       "      <th>RewardStructure</th>\n",
       "      <th>RewardSize</th>\n",
       "      <th>ExpirationMonth</th>\n",
       "    </tr>\n",
       "  </thead>\n",
       "  <tbody>\n",
       "    <tr>\n",
       "      <th>0</th>\n",
       "      <td>A&amp;P</td>\n",
       "      <td>74</td>\n",
       "      <td>$5,831,000</td>\n",
       "      <td>$5,831,000</td>\n",
       "      <td>48.85</td>\n",
       "      <td>277</td>\n",
       "      <td>Discount, Variety Stores</td>\n",
       "      <td>0</td>\n",
       "      <td>No rewards program</td>\n",
       "      <td>-</td>\n",
       "      <td>-</td>\n",
       "      <td>-</td>\n",
       "      <td>-</td>\n",
       "    </tr>\n",
       "    <tr>\n",
       "      <th>1</th>\n",
       "      <td>Albertsons</td>\n",
       "      <td>21</td>\n",
       "      <td>$19,452,000</td>\n",
       "      <td>$19,452,000</td>\n",
       "      <td>69.02</td>\n",
       "      <td>1,024</td>\n",
       "      <td>Grocery Stores</td>\n",
       "      <td>0</td>\n",
       "      <td>No rewards program</td>\n",
       "      <td>-</td>\n",
       "      <td>-</td>\n",
       "      <td>-</td>\n",
       "      <td>-</td>\n",
       "    </tr>\n",
       "    <tr>\n",
       "      <th>2</th>\n",
       "      <td>Aldi</td>\n",
       "      <td>38</td>\n",
       "      <td>$10,898,000</td>\n",
       "      <td>$10,650,000</td>\n",
       "      <td>69.41</td>\n",
       "      <td>1,328</td>\n",
       "      <td>Grocery Stores</td>\n",
       "      <td>0</td>\n",
       "      <td>No rewards program</td>\n",
       "      <td>-</td>\n",
       "      <td>-</td>\n",
       "      <td>-</td>\n",
       "      <td>-</td>\n",
       "    </tr>\n",
       "    <tr>\n",
       "      <th>3</th>\n",
       "      <td>Alimentation Couche Tard (Circle K)</td>\n",
       "      <td>82</td>\n",
       "      <td>$4,755,000</td>\n",
       "      <td>$8,551,000</td>\n",
       "      <td>68.03</td>\n",
       "      <td>3,826</td>\n",
       "      <td>Grocery Stores</td>\n",
       "      <td>0</td>\n",
       "      <td>No rewards program</td>\n",
       "      <td>-</td>\n",
       "      <td>-</td>\n",
       "      <td>-</td>\n",
       "      <td>-</td>\n",
       "    </tr>\n",
       "    <tr>\n",
       "      <th>4</th>\n",
       "      <td>Apple Stores</td>\n",
       "      <td>15</td>\n",
       "      <td>$26,648,000</td>\n",
       "      <td>$30,736,000</td>\n",
       "      <td>11.07</td>\n",
       "      <td>254</td>\n",
       "      <td>ElectronicEquipment</td>\n",
       "      <td>0</td>\n",
       "      <td>No rewards program</td>\n",
       "      <td>-</td>\n",
       "      <td>-</td>\n",
       "      <td>-</td>\n",
       "      <td>-</td>\n",
       "    </tr>\n",
       "  </tbody>\n",
       "</table>\n",
       "</div>"
      ],
      "text/plain": [
       "                              Retailer  Salerank  X2013USSales  \\\n",
       "0                                  A&P        74   $5,831,000    \n",
       "1                           Albertsons        21  $19,452,000    \n",
       "2                                 Aldi        38  $10,898,000    \n",
       "3  Alimentation Couche Tard (Circle K)        82   $4,755,000    \n",
       "4                         Apple Stores        15  $26,648,000    \n",
       "\n",
       "  X2013WorldSales  ProfitMargin NumStores                  Industry  Reward  \\\n",
       "0     $5,831,000          48.85       277  Discount, Variety Stores       0   \n",
       "1    $19,452,000          69.02     1,024            Grocery Stores       0   \n",
       "2    $10,650,000          69.41     1,328            Grocery Stores       0   \n",
       "3     $8,551,000          68.03     3,826            Grocery Stores       0   \n",
       "4    $30,736,000          11.07       254       ElectronicEquipment       0   \n",
       "\n",
       "          ProgramName RewardType RewardStructure RewardSize ExpirationMonth  \n",
       "0  No rewards program          -               -          -               -  \n",
       "1  No rewards program          -               -          -               -  \n",
       "2  No rewards program          -               -          -               -  \n",
       "3  No rewards program          -               -          -               -  \n",
       "4  No rewards program          -               -          -               -  "
      ]
     },
     "execution_count": 7,
     "metadata": {},
     "output_type": "execute_result"
    }
   ],
   "source": [
    "df = pd.read_csv('_880d7d5c6ece373eabd311d309a90767_crp.csv')\n",
    "df.head()"
   ]
  },
  {
   "cell_type": "code",
   "execution_count": 8,
   "metadata": {},
   "outputs": [
    {
     "data": {
      "text/plain": [
       "Retailer           0\n",
       "Salerank           0\n",
       "X2013USSales       0\n",
       "X2013WorldSales    0\n",
       "ProfitMargin       0\n",
       "NumStores          0\n",
       "Industry           0\n",
       "Reward             0\n",
       "ProgramName        0\n",
       "RewardType         4\n",
       "RewardStructure    0\n",
       "RewardSize         0\n",
       "ExpirationMonth    0\n",
       "dtype: int64"
      ]
     },
     "execution_count": 8,
     "metadata": {},
     "output_type": "execute_result"
    }
   ],
   "source": [
    "df.isnull().sum()"
   ]
  },
  {
   "cell_type": "code",
   "execution_count": 9,
   "metadata": {},
   "outputs": [
    {
     "data": {
      "text/plain": [
       "Retailer            object\n",
       "Salerank             int64\n",
       "X2013USSales        object\n",
       "X2013WorldSales     object\n",
       "ProfitMargin       float64\n",
       "NumStores           object\n",
       "Industry            object\n",
       "Reward               int64\n",
       "ProgramName         object\n",
       "RewardType          object\n",
       "RewardStructure     object\n",
       "RewardSize          object\n",
       "ExpirationMonth     object\n",
       "dtype: object"
      ]
     },
     "execution_count": 9,
     "metadata": {},
     "output_type": "execute_result"
    }
   ],
   "source": [
    "df.dtypes"
   ]
  },
  {
   "cell_type": "code",
   "execution_count": null,
   "metadata": {},
   "outputs": [],
   "source": []
  }
 ],
 "metadata": {
  "kernelspec": {
   "display_name": "Python 3",
   "language": "python",
   "name": "python3"
  },
  "language_info": {
   "codemirror_mode": {
    "name": "ipython",
    "version": 3
   },
   "file_extension": ".py",
   "mimetype": "text/x-python",
   "name": "python",
   "nbconvert_exporter": "python",
   "pygments_lexer": "ipython3",
   "version": "3.7.6"
  }
 },
 "nbformat": 4,
 "nbformat_minor": 4
}
