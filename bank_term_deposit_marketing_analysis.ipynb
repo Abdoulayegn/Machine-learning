{
  "nbformat": 4,
  "nbformat_minor": 0,
  "metadata": {
    "colab": {
      "name": "bank_term_deposit_marketing_analysis.ipynb",
      "private_outputs": true,
      "provenance": [],
      "include_colab_link": true
    },
    "kernelspec": {
      "name": "python3",
      "display_name": "Python 3"
    },
    "language_info": {
      "name": "python"
    }
  },
  "cells": [
    {
      "cell_type": "markdown",
      "metadata": {
        "id": "view-in-github",
        "colab_type": "text"
      },
      "source": [
        "<a href=\"https://colab.research.google.com/github/abdoulayegk/Machine-learning/blob/master/bank_term_deposit_marketing_analysis.ipynb\" target=\"_parent\"><img src=\"https://colab.research.google.com/assets/colab-badge.svg\" alt=\"Open In Colab\"/></a>"
      ]
    },
    {
      "cell_type": "code",
      "execution_count": null,
      "metadata": {
        "id": "kp2VAkSE-apj"
      },
      "outputs": [],
      "source": [
        "import io\n",
        "from google.colab import files\n",
        "import pandas as pd\n",
        "import seaborn as sns\n",
        "import matplotlib.pyplot as plt\n",
        "plt.style.use('ggplot')"
      ]
    },
    {
      "cell_type": "code",
      "source": [
        "uploaded = files.upload()"
      ],
      "metadata": {
        "id": "5q0J_ebE-fn1"
      },
      "execution_count": null,
      "outputs": []
    },
    {
      "cell_type": "code",
      "source": [
        "df = pd.read_csv(io.BytesIO(uploaded['bank_term_deposit_marketing_analysis.csv']))\n",
        "\n",
        "df.head()"
      ],
      "metadata": {
        "id": "UYBo3Doy-sLc"
      },
      "execution_count": null,
      "outputs": []
    },
    {
      "cell_type": "code",
      "source": [
        "df.describe(include='all').T.style.background_gradient()"
      ],
      "metadata": {
        "id": "pukefnV2_hHC"
      },
      "execution_count": null,
      "outputs": []
    },
    {
      "cell_type": "code",
      "source": [
        "sns.countplot(df.LOAN)"
      ],
      "metadata": {
        "id": "0Iyr2SD1-Iu8"
      },
      "execution_count": null,
      "outputs": []
    },
    {
      "cell_type": "code",
      "source": [
        "corr = df.corr()\n",
        "corr.style.background_gradient()"
      ],
      "metadata": {
        "id": "jWlEAJz6EXhh"
      },
      "execution_count": null,
      "outputs": []
    },
    {
      "cell_type": "code",
      "source": [
        "plt.figure(figsize = (8, 5))\n",
        "sns.countplot(x = 'MARITAL', hue = 'LOAN', data = df)\n",
        "plt.title(\"MARITAL with LOAN\")\n",
        "plt.xlabel(\"MARITAL\")\n",
        "plt.ylabel(\"Count\")"
      ],
      "metadata": {
        "id": "8wmgBNSvE4Eq"
      },
      "execution_count": null,
      "outputs": []
    },
    {
      "cell_type": "code",
      "source": [
        "plt.figure(figsize=(10,7))\n",
        "sns.countplot(x=df.JOB, hue='LOAN', data=df)\n",
        "labels = ['management', 'technician', 'entrepreneur', 'blue-collar',\n",
        "       'unknown', 'retired', 'admin.', 'services', 'self-employed',\n",
        "       'unemployed', 'housemaid', 'student']\n",
        "ax=plt.gca()\n",
        "ax.set_xticklabels(labels = labels, rotation=50);\n",
        "plt.show()"
      ],
      "metadata": {
        "id": "rgdEFJWwNbFz"
      },
      "execution_count": null,
      "outputs": []
    },
    {
      "cell_type": "code",
      "source": [
        "df['CONTACT'].unique()"
      ],
      "metadata": {
        "id": "XZRdnwkrGhRQ"
      },
      "execution_count": null,
      "outputs": []
    },
    {
      "cell_type": "code",
      "source": [
        "columns_to_drop = ['COUNT','PDAYS','PREVIOUS','ID','POUTCOME','CONTACT']\n",
        "\n",
        "#final df\n",
        "df = df.drop(columns_to_drop, axis=1)\n",
        "df.head()"
      ],
      "metadata": {
        "id": "sP9hPPjsGuFQ"
      },
      "execution_count": null,
      "outputs": []
    },
    {
      "cell_type": "code",
      "source": [
        "plt.figure(figsize=(10,6))\n",
        "sns.heatmap(df.corr(),annot=True)\n",
        "plt.title(\"Correlation matrix between columns\")\n",
        "plt.show()"
      ],
      "metadata": {
        "id": "FZ88Se1_Hwov"
      },
      "execution_count": null,
      "outputs": []
    },
    {
      "cell_type": "markdown",
      "source": [
        "There are many way you can transform your categorical data into numbers. \n",
        "1. Create a dictionary with all your class labels\n",
        "2. Map it with your column using the function **map** in python"
      ],
      "metadata": {
        "id": "tIlGKznfQXwz"
      }
    },
    {
      "cell_type": "code",
      "source": [
        "# use this one to get the unique elements of your columns\n",
        "df['EDUCATION'].unique()"
      ],
      "metadata": {
        "id": "2IcqiGFWPkkO"
      },
      "execution_count": null,
      "outputs": []
    },
    {
      "cell_type": "code",
      "source": [
        "# Create a dictionary like this one with the mapping. look above output for reference.\n",
        "dic_education = {'tertiary':3, 'secondary':2, 'unknown':0, 'primary':1}\n",
        "\n",
        "# Do the mapping like this for all the columns which are not numbers.\n",
        "df['EDUCATION'] = df['EDUCATION'].map(dic_education)"
      ],
      "metadata": {
        "id": "0HictH4uQqLX"
      },
      "execution_count": null,
      "outputs": []
    },
    {
      "cell_type": "code",
      "source": [
        "# see the unique values after mapping\n",
        "df.EDUCATION.unique()"
      ],
      "metadata": {
        "id": "_Z3Fp8oGRdQP"
      },
      "execution_count": null,
      "outputs": []
    },
    {
      "cell_type": "code",
      "source": [
        "df.head()"
      ],
      "metadata": {
        "id": "Spepo8qbTaFp"
      },
      "execution_count": null,
      "outputs": []
    },
    {
      "cell_type": "code",
      "source": [
        "df['LOAN'] = df['LOAN'].map({'yes':1, 'no':0})"
      ],
      "metadata": {
        "id": "30-WmZ7LVYtj"
      },
      "execution_count": null,
      "outputs": []
    },
    {
      "cell_type": "code",
      "source": [
        "from sklearn.model_selection import (StratifiedGroupKFold,GroupKFold,\\\n",
        "                              StratifiedKFold, RepeatedStratifiedKFold, KFold)\n",
        "from sklearn.ensemble import RandomForestClassifier\n",
        "from sklearn.metrics import accuracy_score, f1_score, roc_auc_score\n",
        "from sklearn.preprocessing import StandardScaler\n",
        "from lightgbm import LGBMClassifier\n",
        "from xgboost import XGBClassifier\n",
        "import numpy as np\n"
      ],
      "metadata": {
        "id": "n3xZQJ8IVrzI"
      },
      "execution_count": null,
      "outputs": []
    },
    {
      "cell_type": "code",
      "source": [
        "X = df.drop('LOAN',axis=1)\n",
        "\n",
        "y = df['LOAN']"
      ],
      "metadata": {
        "id": "qUBxlzMVXJSV"
      },
      "execution_count": null,
      "outputs": []
    },
    {
      "cell_type": "code",
      "source": [
        "X = pd.get_dummies(X)\n",
        "X.head()"
      ],
      "metadata": {
        "id": "lNC173nnXS7d"
      },
      "execution_count": null,
      "outputs": []
    },
    {
      "cell_type": "code",
      "source": [
        "from imblearn.over_sampling import SMOTE\n",
        "oversample = SMOTE()\n",
        "X, y = oversample.fit_resample(X, y)\n",
        "oversample = SMOTE()\n",
        "# Oversampling the target data\n",
        "X, y = oversample.fit_resample(X, y)\n",
        "plt.title(\"Balanced classes\")\n",
        "sns.countplot(y)\n",
        "plt.show()"
      ],
      "metadata": {
        "id": "zWLHO05PDMDL"
      },
      "execution_count": null,
      "outputs": []
    },
    {
      "cell_type": "markdown",
      "source": [
        "Using Kfold with LightGBM"
      ],
      "metadata": {
        "id": "3-6cfV8ocAt8"
      }
    },
    {
      "cell_type": "code",
      "source": [
        "scores = []\n",
        "\n",
        "fold = KFold(n_splits=5, shuffle=True, random_state=42)\n",
        "\n",
        "for train_idx,test_idx in fold.split(X,y):\n",
        "  X_train, X_test = X.iloc[train_idx], X.iloc[test_idx]\n",
        "  y_train, y_test = y.iloc[train_idx], y.iloc[test_idx]\n",
        "  m1 = LGBMClassifier()\n",
        "  m1.fit(X_train,y_train,eval_set=[(X_train,y_train),(X_test,y_test)],\n",
        "         early_stopping_rounds=500, verbose=1, eval_metric='auc')\n",
        "  pred = m1.predict(X_test)\n",
        "  print(\"score\",accuracy_score(y_test, pred))\n",
        "  scores.append(accuracy_score(y_test,pred))\n",
        "print(\"The score for Kfold is: \",np.mean(scores))\n"
      ],
      "metadata": {
        "id": "8F5SallGXYUe"
      },
      "execution_count": null,
      "outputs": []
    },
    {
      "cell_type": "markdown",
      "source": [
        "KFold with Xgboost"
      ],
      "metadata": {
        "id": "66YTCFAWcGPn"
      }
    },
    {
      "cell_type": "code",
      "source": [
        "scores = []\n",
        "\n",
        "fold = KFold(n_splits=5, shuffle=True, random_state=42)\n",
        "\n",
        "for train_idx,test_idx in fold.split(X,y):\n",
        "  X_train, X_test = X.iloc[train_idx], X.iloc[test_idx]\n",
        "  y_train, y_test = y.iloc[train_idx], y.iloc[test_idx]\n",
        "  m2 = XGBClassifier()\n",
        "  m2.fit(X_train,y_train,eval_set=[(X_train,y_train),(X_test,y_test)],\n",
        "         early_stopping_rounds=500, verbose=1, eval_metric='auc')\n",
        "  pred = m2.predict(X_test)\n",
        "  print(\"score\",accuracy_score(y_test, pred))\n",
        "  scores.append(accuracy_score(y_test,pred))\n",
        "print(\"The score for Kfold is: \",np.mean(scores))\n"
      ],
      "metadata": {
        "id": "EgdI5lHUbdl-"
      },
      "execution_count": null,
      "outputs": []
    },
    {
      "cell_type": "markdown",
      "source": [
        "Using stratifiedKFold"
      ],
      "metadata": {
        "id": "n12WbB6Zcchc"
      }
    },
    {
      "cell_type": "code",
      "source": [
        "scores = []\n",
        "\n",
        "fold = StratifiedKFold(n_splits=5, shuffle=True, random_state=42)\n",
        "\n",
        "for train_idx,test_idx in fold.split(X,y):\n",
        "  X_train, X_test = X.iloc[train_idx], X.iloc[test_idx]\n",
        "  y_train, y_test = y.iloc[train_idx], y.iloc[test_idx]\n",
        "  m3 = LGBMClassifier()\n",
        "  m3.fit(X_train,y_train,eval_set=[(X_train,y_train),(X_test,y_test)],\n",
        "         early_stopping_rounds=500, verbose=1, eval_metric='auc')\n",
        "  pred = m3.predict(X_test)\n",
        "  print(\"score\",accuracy_score(y_test, pred))\n",
        "  scores.append(accuracy_score(y_test,pred))\n",
        "print(\"The score for Kfold is: \",np.mean(scores))\n"
      ],
      "metadata": {
        "id": "of9Z6n7hcNhb"
      },
      "execution_count": null,
      "outputs": []
    },
    {
      "cell_type": "code",
      "source": [
        "scores = []\n",
        "\n",
        "fold = KFold(n_splits=5, shuffle=True, random_state=42)\n",
        "\n",
        "for train_idx,test_idx in fold.split(X,y):\n",
        "  X_train, X_test = X.iloc[train_idx], X.iloc[test_idx]\n",
        "  y_train, y_test = y.iloc[train_idx], y.iloc[test_idx]\n",
        "  m4 = RandomForestClassifier()\n",
        "  m4.fit(X_train,y_train)\n",
        "  pred = m4.predict(X_test)\n",
        "  print(\"score\",accuracy_score(y_test, pred))\n",
        "  scores.append(accuracy_score(y_test,pred))\n",
        "print(\"The score for Kfold is: \",np.mean(scores))\n"
      ],
      "metadata": {
        "id": "rDohClq0cy64"
      },
      "execution_count": null,
      "outputs": []
    },
    {
      "cell_type": "code",
      "source": [
        "# using RepeatedStratifiedKfold\n",
        "scores = []\n",
        "f1_scores = []\n",
        "\n",
        "fold = RepeatedStratifiedKFold(n_splits=5,n_repeats=10, random_state=42)\n",
        "\n",
        "for train_idx,test_idx in fold.split(X,y):\n",
        "  X_train, X_test = X.iloc[train_idx], X.iloc[test_idx]\n",
        "  y_train, y_test = y.iloc[train_idx], y.iloc[test_idx]\n",
        "  m1 = LGBMClassifier()\n",
        "  m1.fit(X_train,y_train,eval_set=[(X_train,y_train),(X_test,y_test)],\\\n",
        "         early_stopping_rounds=500, verbose=1, eval_metric='auc')\n",
        "  pred = m1.predict(X_test)\n",
        "  print(\"score\",accuracy_score(y_test, pred))\n",
        "  scores.append(accuracy_score(y_test,pred))\n",
        "print(\"The score for Kfold is: \",np.mean(scores))\n",
        "print(\"F1-score of Group KFold is: \",np.mean(f1_scores))\n"
      ],
      "metadata": {
        "id": "sTccbFG4dKt0"
      },
      "execution_count": null,
      "outputs": []
    },
    {
      "cell_type": "code",
      "source": [
        "!pip -q install catboost"
      ],
      "metadata": {
        "id": "e3N-G3KL9AdO"
      },
      "execution_count": null,
      "outputs": []
    },
    {
      "cell_type": "code",
      "source": [
        "# using Group KFold\n",
        "from catboost import CatBoostClassifier\n",
        "scores = []\n",
        "f1_scores = []\n",
        "fold = StratifiedKFold(n_splits=10, shuffle=True, random_state=42)\n",
        "\n",
        "for train_idx,test_idx in fold.split(X,y):\n",
        "  X_train, X_test = X.iloc[train_idx], X.iloc[test_idx]\n",
        "  y_train, y_test = y.iloc[train_idx], y.iloc[test_idx]\n",
        "  m1 = CatBoostClassifier()\n",
        "  m1.fit(X_train,y_train, verbose=1)\n",
        "  pred = m1.predict(X_test)\n",
        "  print(\"Accuracy score\",accuracy_score(y_test, pred))\n",
        "  scores.append(accuracy_score(y_test,pred))\n",
        "  f1_scores.append(f1_score(y_test, pred))\n",
        "print(\"The mean Accuracy score for Kfold is: \",np.mean(scores))\n",
        "print(\"F1-score of Stratified KFold is: \",np.mean(f1_scores))"
      ],
      "metadata": {
        "id": "MdFImGax6xYj"
      },
      "execution_count": null,
      "outputs": []
    },
    {
      "cell_type": "code",
      "source": [
        "from sklearn.metrics import classification_report\n",
        "\n",
        "print(classification_report(y_test,pred))"
      ],
      "metadata": {
        "id": "0YmJ0-zi9WVh"
      },
      "execution_count": null,
      "outputs": []
    },
    {
      "cell_type": "code",
      "source": [
        ""
      ],
      "metadata": {
        "id": "LMxW1qk3B09f"
      },
      "execution_count": null,
      "outputs": []
    }
  ]
}